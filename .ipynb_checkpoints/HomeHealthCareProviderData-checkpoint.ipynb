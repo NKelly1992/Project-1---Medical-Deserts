{
 "cells": [
  {
   "cell_type": "code",
   "execution_count": 1,
   "id": "a13bc74a",
   "metadata": {},
   "outputs": [
    {
     "ename": "ModuleNotFoundError",
     "evalue": "No module named 'config'",
     "output_type": "error",
     "traceback": [
      "\u001b[1;31m---------------------------------------------------------------------------\u001b[0m",
      "\u001b[1;31mModuleNotFoundError\u001b[0m                       Traceback (most recent call last)",
      "\u001b[1;32m<ipython-input-1-1d9077eef129>\u001b[0m in \u001b[0;36m<module>\u001b[1;34m\u001b[0m\n\u001b[0;32m      8\u001b[0m \u001b[1;32mimport\u001b[0m \u001b[0mjson\u001b[0m\u001b[1;33m\u001b[0m\u001b[1;33m\u001b[0m\u001b[0m\n\u001b[0;32m      9\u001b[0m \u001b[1;32mimport\u001b[0m \u001b[0mseaborn\u001b[0m \u001b[1;32mas\u001b[0m \u001b[0msns\u001b[0m\u001b[1;33m\u001b[0m\u001b[1;33m\u001b[0m\u001b[0m\n\u001b[1;32m---> 10\u001b[1;33m \u001b[1;32mfrom\u001b[0m \u001b[0mconfig\u001b[0m \u001b[1;32mimport\u001b[0m \u001b[0mapi_key\u001b[0m\u001b[1;33m\u001b[0m\u001b[1;33m\u001b[0m\u001b[0m\n\u001b[0m",
      "\u001b[1;31mModuleNotFoundError\u001b[0m: No module named 'config'"
     ]
    }
   ],
   "source": [
    "import pandas as pd\n",
    "import matplotlib.pyplot as plt\n",
    "import scipy.stats as st\n",
    "from scipy.stats import linregress\n",
    "from matplotlib.pyplot import figure\n",
    "\n",
    "import requests\n",
    "import json\n",
    "import seaborn as sns\n",
    "from config import api_key"
   ]
  },
  {
   "cell_type": "code",
   "execution_count": 2,
   "id": "4db4e026",
   "metadata": {},
   "outputs": [],
   "source": [
    "file = \"HH_Provider_July2021.csv\"\n",
    "\n",
    "df = pd.read_csv(file)"
   ]
  },
  {
   "cell_type": "code",
   "execution_count": null,
   "id": "cfa94ae6",
   "metadata": {},
   "outputs": [],
   "source": [
    "df.drop(\"Footnote for quality of patient care star rating\", inplace=True, axis=1)\n",
    "df.drop(\"Footnote for how often the home health team began their patients' care in a timely manner\", inplace=True, axis=1)\n",
    "df.drop(\"Footnote for how often the home health team taught patients (or their family caregivers) about their drugs\", inplace=True, axis=1)\n",
    "df.drop(\"Footnote for how often the home health team determined whether patients received a flu shot for the current flu season\", inplace=True, axis=1)\n",
    "df.drop(\"Footnote for how often patients got better at walking or moving around\", inplace=True, axis=1)\n",
    "df.drop(\"Footnote for how often patients got better at getting in and out of bed\", inplace=True, axis=1)\n",
    "df.drop(\"Footnote for how often patients got better at bathing\", inplace=True, axis=1)\n",
    "df.drop(\"Footnote for how often patients got better at taking their drugs correctly by mouth\", inplace=True, axis=1)\n",
    "df.drop(\"Footnote for how often home health patients had to be admitted to the hospital\", inplace=True, axis=1)\n",
    "df.drop(\"Footnote for how often patients receiving home health care needed urgent, unplanned care in the ER without being admitted\", inplace=True, axis=1)\n",
    "df.drop(\"Footnote Changes in skin integrity post-acute care: pressure ulcer/injury\", inplace=True, axis=1)\n",
    "df.drop(\"Footnote for how often physician-recommended actions to address medication issues were completely timely\", inplace=True, axis=1)\n",
    "df.drop(\"Footnote for DTC Risk-Standardized Rate\", inplace=True, axis=1)\n",
    "df.drop(\"Footnote for PPR Risk-Standardized Rate\", inplace=True, axis=1)\n",
    "df.drop(\"Footnote for how much Medicare spends on an episode of care at this agency, compared to Medicare spending across all agencies nationally\", inplace=True, axis=1)"
   ]
  },
  {
   "cell_type": "code",
   "execution_count": null,
   "id": "b26d732c",
   "metadata": {},
   "outputs": [],
   "source": [
    "df.columns"
   ]
  },
  {
   "cell_type": "code",
   "execution_count": null,
   "id": "f00665a1",
   "metadata": {},
   "outputs": [],
   "source": [
    "df=df.replace(\"Better Than National Rate\", \"Higher\")\n",
    "df=df.replace(\"Same As National Rate\", \"Average\")\n",
    "df=df.replace(\"Worse Than National Rate\", \"Lower\")"
   ]
  },
  {
   "cell_type": "code",
   "execution_count": null,
   "id": "3825c80c",
   "metadata": {},
   "outputs": [],
   "source": [
    "df=df.rename(columns={\"How often the home health team began their patients' care in a timely manner\": \"Timely manner rating\",\n",
    "                     \"How often the home health team taught patients (or their family caregivers) about their drugs\": \"Teaching patients about drugs rating\",\n",
    "                     \"How often the home health team determined whether patients received a flu shot for the current flu season\": \"Flu Shot Confirmation rating\",\n",
    "                     })"
   ]
  },
  {
   "cell_type": "code",
   "execution_count": null,
   "id": "1561c734",
   "metadata": {},
   "outputs": [],
   "source": [
    "df_new=df.copy()"
   ]
  },
  {
   "cell_type": "code",
   "execution_count": null,
   "id": "0270ed5c",
   "metadata": {},
   "outputs": [],
   "source": [
    "df_new[\"Type of Ownership\"].value_counts()"
   ]
  },
  {
   "cell_type": "code",
   "execution_count": null,
   "id": "6b26e56d",
   "metadata": {},
   "outputs": [],
   "source": [
    "df=df.replace(\"GOVERNMENT - STATE/COUNTY\", \"GOVERNMENT - FEDERAL/STATE/COUNTY/DISTRICT\")\n",
    "df=df.replace(\"VOLUNTARY NON PROFIT - RELIGIOUS AFFILIATION\", \"VOLUNTARY NON PROFIT - RELIGIOUS\")\n",
    "df=df.replace(\"GOVERNMENT - LOCAL\", \"GOVERNMENT - FEDERAL/STATE/COUNTY/DISTRICT\")\n",
    "df=df.replace(\"VOLUNTARY NON-PROFIT - OTHER\", \"UNCLASSIFIED\")\n",
    "df=df.replace(\"GOVERNMENT - COMBINATION GOVT & VOLUNTARY\", \"UNCLASSIFIED\")"
   ]
  },
  {
   "cell_type": "code",
   "execution_count": null,
   "id": "9851bd85",
   "metadata": {},
   "outputs": [],
   "source": [
    "df[\"Type of Ownership\"].value_counts()"
   ]
  },
  {
   "cell_type": "code",
   "execution_count": null,
   "id": "9b53563d",
   "metadata": {},
   "outputs": [],
   "source": [
    "df_ratings = df[[\"CMS Certification Number (CCN)\", \"Provider Name\", \"Type of Ownership\", \n",
    "                \"Quality of patient care star rating\", \n",
    "                \"Timely manner rating\", \n",
    "                \"Teaching patients about drugs rating\", \n",
    "                \"Flu Shot Confirmation rating\",\n",
    "                \"How often patients got better at walking or moving around\",\n",
    "                \"How often patients got better at getting in and out of bed\", \n",
    "                \"How often patients got better at bathing\", \n",
    "                \"How often patients' breathing improved\", \n",
    "                \"How often patients got better at taking their drugs correctly by mouth\", \n",
    "                \"How often home health patients had to be admitted to the hospital\", \n",
    "                \"How often patients receiving home health care needed urgent, unplanned care in the ER without being admitted\",\n",
    "                \"How often physician-recommended actions to address medication issues were completely timely\", \n",
    "                \"DTC Risk-Standardized Rate\", \"DTC Performance Categorization\", \"PPR Risk-Standardized Rate\", \n",
    "                \"PPR Performance Categorization\"]]\n",
    "df_ratings.head()"
   ]
  },
  {
   "cell_type": "code",
   "execution_count": null,
   "id": "10cf9d83",
   "metadata": {},
   "outputs": [],
   "source": [
    "df_ratings[\"Quality of patient care star rating\"] = pd.to_numeric(df_ratings[\"Quality of patient care star rating\"], errors='coerce')"
   ]
  },
  {
   "cell_type": "code",
   "execution_count": null,
   "id": "5d181d67",
   "metadata": {},
   "outputs": [],
   "source": [
    "df_ratings.head()"
   ]
  },
  {
   "cell_type": "code",
   "execution_count": null,
   "id": "736e49c4",
   "metadata": {},
   "outputs": [],
   "source": [
    "df.columns"
   ]
  },
  {
   "cell_type": "code",
   "execution_count": null,
   "id": "f41ab710",
   "metadata": {},
   "outputs": [],
   "source": [
    "states_df=df.groupby(\"State\")"
   ]
  },
  {
   "cell_type": "code",
   "execution_count": null,
   "id": "e98bb318",
   "metadata": {},
   "outputs": [],
   "source": [
    "hosp_in_state = states_df['Provider Name'].count()\n",
    "states=df['State'].value_counts()\n",
    "\n",
    "figure(figsize=(15, 6), dpi=80)\n",
    "states.plot(kind='bar')\n",
    "plt.xlabel(\"State\")\n",
    "plt.ylabel(\"Number of hospitals\")\n",
    "plt.show()"
   ]
  },
  {
   "cell_type": "code",
   "execution_count": null,
   "id": "b9df1000",
   "metadata": {},
   "outputs": [],
   "source": [
    "all_states=df.groupby(\"State\")\n",
    "n_hhc_qual=all_states['Quality of patient care star rating'].mean()\n",
    "\n",
    "figure(figsize=(15, 6), dpi=80)\n",
    "n_hhc_qual.plot(kind='bar')\n",
    "#plt.annotate('Texas has the most hospitals',xy=(40,350))\n",
    "plt.rcParams[\"font.size\"] = \"12\"\n",
    "plt.xlabel(\"State Code\")\n",
    "plt.ylabel(\"Average rating of home health providers\")\n",
    "plt.show()"
   ]
  },
  {
   "cell_type": "code",
   "execution_count": null,
   "id": "75085455",
   "metadata": {},
   "outputs": [],
   "source": [
    "type_of_ownership = df.groupby(\"Type of Ownership\")\n",
    "n_hhc_qual=type_of_ownership['Quality of patient care star rating'].mean()\n",
    "\n",
    "figure(figsize=(15, 6), dpi=80)\n",
    "n_hhc_qual.plot(kind='bar')\n",
    "plt.rcParams[\"font.size\"] = \"12\"\n",
    "plt.xlabel(\"Ownership Type\")\n",
    "plt.ylabel(\"Average rating of home health providers\")\n",
    "plt.show()"
   ]
  },
  {
   "cell_type": "code",
   "execution_count": null,
   "id": "3576ff02",
   "metadata": {},
   "outputs": [],
   "source": [
    "state_by_state = df.groupby(['State', 'Type of Ownership'])['Provider Name'].count().unstack().fillna(0)\n",
    "state_by_state.plot(kind='bar', stacked=True, figsize=(20,10))\n",
    "\n",
    "\n",
    "plt.title('HHC Facilities by Ownership')\n",
    "plt.xticks(rotation=0, ha='center')\n",
    "plt.show()\n",
    "plt.tight_layout()"
   ]
  },
  {
   "cell_type": "code",
   "execution_count": null,
   "id": "6cd881b4",
   "metadata": {},
   "outputs": [],
   "source": [
    "df_ratings=df_ratings.replace(\"Higher\",1)\n",
    "df_ratings=df_ratings.replace(\"Lower\",-1)\n",
    "df_ratings=df_ratings.replace(\"Average\",0)\n",
    "df_ratings=df_ratings.replace(\"NA\",None)\n",
    "df_ratings.head()"
   ]
  },
  {
   "cell_type": "code",
   "execution_count": null,
   "id": "bd2eb8be",
   "metadata": {},
   "outputs": [],
   "source": [
    "state_by_state = df.groupby(['State'])['Timely manner rating'].mean().fillna(0)\n",
    "state_by_state.plot(kind='bar', stacked=False, figsize=(20,10))\n",
    "\n",
    "\n",
    "plt.title('Rating for Timely manner')\n",
    "plt.xticks(rotation=0, ha='center')\n",
    "plt.show()\n",
    "plt.tight_layout()"
   ]
  },
  {
   "cell_type": "code",
   "execution_count": null,
   "id": "31fe8605",
   "metadata": {},
   "outputs": [],
   "source": [
    "base_url = \"https://maps.googleapis.com/maps/api/geocode/json\"\n",
    "latitudes=[]\n",
    "longitudes=[]\n",
    "params = {\"key\": g_key}\n",
    "\n",
    "for index, row in addresses.iterrows():\n",
    "    address=row\n",
    "    params['address'] = address\n",
    "    try:\n",
    "        my_geo = requests.get(base_url, params).json()\n",
    "        lat = my_geo[\"results\"][0][\"geometry\"][\"location\"][\"lat\"]\n",
    "        lng = my_geo[\"results\"][0][\"geometry\"][\"location\"][\"lng\"]\n",
    "\n",
    "        latitudes.append(lat)\n",
    "\n",
    "        longitudes.append(lng)\n",
    "    except:\n",
    "        print(f\"Error locating address: {address} \")\n",
    "\n",
    "print(\"End of Loop\")"
   ]
  }
 ],
 "metadata": {
  "kernelspec": {
   "display_name": "Python 3",
   "language": "python",
   "name": "python3"
  },
  "language_info": {
   "codemirror_mode": {
    "name": "ipython",
    "version": 3
   },
   "file_extension": ".py",
   "mimetype": "text/x-python",
   "name": "python",
   "nbconvert_exporter": "python",
   "pygments_lexer": "ipython3",
   "version": "3.8.8"
  }
 },
 "nbformat": 4,
 "nbformat_minor": 5
}
